{
 "cells": [
  {
   "cell_type": "code",
   "execution_count": 1,
   "id": "e1005e6c",
   "metadata": {},
   "outputs": [],
   "source": [
    "# importing libraries\n",
    "import pandas as pd\n",
    "import numpy as np\n",
    "import matplotlib.pyplot as plt\n",
    "import seaborn as sns"
   ]
  },
  {
   "cell_type": "code",
   "execution_count": 2,
   "id": "a95e822d",
   "metadata": {},
   "outputs": [],
   "source": [
    "df = pd.read_csv('Churn_Modelling.csv')"
   ]
  },
  {
   "cell_type": "code",
   "execution_count": 35,
   "id": "c8b9b7d6",
   "metadata": {},
   "outputs": [
    {
     "name": "stdout",
     "output_type": "stream",
     "text": [
      "<class 'pandas.core.frame.DataFrame'>\n",
      "RangeIndex: 10000 entries, 0 to 9999\n",
      "Data columns (total 14 columns):\n",
      " #   Column           Non-Null Count  Dtype  \n",
      "---  ------           --------------  -----  \n",
      " 0   RowNumber        10000 non-null  int64  \n",
      " 1   CustomerId       10000 non-null  int64  \n",
      " 2   Surname          10000 non-null  object \n",
      " 3   CreditScore      10000 non-null  int64  \n",
      " 4   Geography        10000 non-null  object \n",
      " 5   Gender           10000 non-null  object \n",
      " 6   Age              10000 non-null  int64  \n",
      " 7   Tenure           10000 non-null  int64  \n",
      " 8   Balance          10000 non-null  float64\n",
      " 9   NumOfProducts    10000 non-null  int64  \n",
      " 10  HasCrCard        10000 non-null  int64  \n",
      " 11  IsActiveMember   10000 non-null  int64  \n",
      " 12  EstimatedSalary  10000 non-null  float64\n",
      " 13  Exited           10000 non-null  int64  \n",
      "dtypes: float64(2), int64(9), object(3)\n",
      "memory usage: 1.1+ MB\n"
     ]
    }
   ],
   "source": [
    "df.info()"
   ]
  },
  {
   "cell_type": "code",
   "execution_count": 27,
   "id": "a04b8ea2",
   "metadata": {},
   "outputs": [
    {
     "data": {
      "text/plain": [
       "RowNumber          0\n",
       "CustomerId         0\n",
       "Surname            0\n",
       "CreditScore        0\n",
       "Geography          0\n",
       "Gender             0\n",
       "Age                0\n",
       "Tenure             0\n",
       "Balance            0\n",
       "NumOfProducts      0\n",
       "HasCrCard          0\n",
       "IsActiveMember     0\n",
       "EstimatedSalary    0\n",
       "Exited             0\n",
       "dtype: int64"
      ]
     },
     "execution_count": 27,
     "metadata": {},
     "output_type": "execute_result"
    }
   ],
   "source": [
    "df.isnull().sum()"
   ]
  },
  {
   "cell_type": "markdown",
   "id": "c17a43c7",
   "metadata": {},
   "source": [
    "There is no missing values"
   ]
  },
  {
   "cell_type": "code",
   "execution_count": 4,
   "id": "46fce65d",
   "metadata": {},
   "outputs": [
    {
     "data": {
      "text/html": [
       "<div>\n",
       "<style scoped>\n",
       "    .dataframe tbody tr th:only-of-type {\n",
       "        vertical-align: middle;\n",
       "    }\n",
       "\n",
       "    .dataframe tbody tr th {\n",
       "        vertical-align: top;\n",
       "    }\n",
       "\n",
       "    .dataframe thead th {\n",
       "        text-align: right;\n",
       "    }\n",
       "</style>\n",
       "<table border=\"1\" class=\"dataframe\">\n",
       "  <thead>\n",
       "    <tr style=\"text-align: right;\">\n",
       "      <th></th>\n",
       "      <th>RowNumber</th>\n",
       "      <th>CustomerId</th>\n",
       "      <th>CreditScore</th>\n",
       "      <th>Age</th>\n",
       "      <th>Tenure</th>\n",
       "      <th>Balance</th>\n",
       "      <th>NumOfProducts</th>\n",
       "      <th>HasCrCard</th>\n",
       "      <th>IsActiveMember</th>\n",
       "      <th>EstimatedSalary</th>\n",
       "      <th>Exited</th>\n",
       "    </tr>\n",
       "  </thead>\n",
       "  <tbody>\n",
       "    <tr>\n",
       "      <th>count</th>\n",
       "      <td>10000.00000</td>\n",
       "      <td>1.000000e+04</td>\n",
       "      <td>10000.000000</td>\n",
       "      <td>10000.000000</td>\n",
       "      <td>10000.000000</td>\n",
       "      <td>10000.000000</td>\n",
       "      <td>10000.000000</td>\n",
       "      <td>10000.00000</td>\n",
       "      <td>10000.000000</td>\n",
       "      <td>10000.000000</td>\n",
       "      <td>10000.000000</td>\n",
       "    </tr>\n",
       "    <tr>\n",
       "      <th>mean</th>\n",
       "      <td>5000.50000</td>\n",
       "      <td>1.569094e+07</td>\n",
       "      <td>650.528800</td>\n",
       "      <td>38.921800</td>\n",
       "      <td>5.012800</td>\n",
       "      <td>76485.889288</td>\n",
       "      <td>1.530200</td>\n",
       "      <td>0.70550</td>\n",
       "      <td>0.515100</td>\n",
       "      <td>100090.239881</td>\n",
       "      <td>0.203700</td>\n",
       "    </tr>\n",
       "    <tr>\n",
       "      <th>std</th>\n",
       "      <td>2886.89568</td>\n",
       "      <td>7.193619e+04</td>\n",
       "      <td>96.653299</td>\n",
       "      <td>10.487806</td>\n",
       "      <td>2.892174</td>\n",
       "      <td>62397.405202</td>\n",
       "      <td>0.581654</td>\n",
       "      <td>0.45584</td>\n",
       "      <td>0.499797</td>\n",
       "      <td>57510.492818</td>\n",
       "      <td>0.402769</td>\n",
       "    </tr>\n",
       "    <tr>\n",
       "      <th>min</th>\n",
       "      <td>1.00000</td>\n",
       "      <td>1.556570e+07</td>\n",
       "      <td>350.000000</td>\n",
       "      <td>18.000000</td>\n",
       "      <td>0.000000</td>\n",
       "      <td>0.000000</td>\n",
       "      <td>1.000000</td>\n",
       "      <td>0.00000</td>\n",
       "      <td>0.000000</td>\n",
       "      <td>11.580000</td>\n",
       "      <td>0.000000</td>\n",
       "    </tr>\n",
       "    <tr>\n",
       "      <th>25%</th>\n",
       "      <td>2500.75000</td>\n",
       "      <td>1.562853e+07</td>\n",
       "      <td>584.000000</td>\n",
       "      <td>32.000000</td>\n",
       "      <td>3.000000</td>\n",
       "      <td>0.000000</td>\n",
       "      <td>1.000000</td>\n",
       "      <td>0.00000</td>\n",
       "      <td>0.000000</td>\n",
       "      <td>51002.110000</td>\n",
       "      <td>0.000000</td>\n",
       "    </tr>\n",
       "    <tr>\n",
       "      <th>50%</th>\n",
       "      <td>5000.50000</td>\n",
       "      <td>1.569074e+07</td>\n",
       "      <td>652.000000</td>\n",
       "      <td>37.000000</td>\n",
       "      <td>5.000000</td>\n",
       "      <td>97198.540000</td>\n",
       "      <td>1.000000</td>\n",
       "      <td>1.00000</td>\n",
       "      <td>1.000000</td>\n",
       "      <td>100193.915000</td>\n",
       "      <td>0.000000</td>\n",
       "    </tr>\n",
       "    <tr>\n",
       "      <th>75%</th>\n",
       "      <td>7500.25000</td>\n",
       "      <td>1.575323e+07</td>\n",
       "      <td>718.000000</td>\n",
       "      <td>44.000000</td>\n",
       "      <td>7.000000</td>\n",
       "      <td>127644.240000</td>\n",
       "      <td>2.000000</td>\n",
       "      <td>1.00000</td>\n",
       "      <td>1.000000</td>\n",
       "      <td>149388.247500</td>\n",
       "      <td>0.000000</td>\n",
       "    </tr>\n",
       "    <tr>\n",
       "      <th>max</th>\n",
       "      <td>10000.00000</td>\n",
       "      <td>1.581569e+07</td>\n",
       "      <td>850.000000</td>\n",
       "      <td>92.000000</td>\n",
       "      <td>10.000000</td>\n",
       "      <td>250898.090000</td>\n",
       "      <td>4.000000</td>\n",
       "      <td>1.00000</td>\n",
       "      <td>1.000000</td>\n",
       "      <td>199992.480000</td>\n",
       "      <td>1.000000</td>\n",
       "    </tr>\n",
       "  </tbody>\n",
       "</table>\n",
       "</div>"
      ],
      "text/plain": [
       "         RowNumber    CustomerId   CreditScore           Age        Tenure  \\\n",
       "count  10000.00000  1.000000e+04  10000.000000  10000.000000  10000.000000   \n",
       "mean    5000.50000  1.569094e+07    650.528800     38.921800      5.012800   \n",
       "std     2886.89568  7.193619e+04     96.653299     10.487806      2.892174   \n",
       "min        1.00000  1.556570e+07    350.000000     18.000000      0.000000   \n",
       "25%     2500.75000  1.562853e+07    584.000000     32.000000      3.000000   \n",
       "50%     5000.50000  1.569074e+07    652.000000     37.000000      5.000000   \n",
       "75%     7500.25000  1.575323e+07    718.000000     44.000000      7.000000   \n",
       "max    10000.00000  1.581569e+07    850.000000     92.000000     10.000000   \n",
       "\n",
       "             Balance  NumOfProducts    HasCrCard  IsActiveMember  \\\n",
       "count   10000.000000   10000.000000  10000.00000    10000.000000   \n",
       "mean    76485.889288       1.530200      0.70550        0.515100   \n",
       "std     62397.405202       0.581654      0.45584        0.499797   \n",
       "min         0.000000       1.000000      0.00000        0.000000   \n",
       "25%         0.000000       1.000000      0.00000        0.000000   \n",
       "50%     97198.540000       1.000000      1.00000        1.000000   \n",
       "75%    127644.240000       2.000000      1.00000        1.000000   \n",
       "max    250898.090000       4.000000      1.00000        1.000000   \n",
       "\n",
       "       EstimatedSalary        Exited  \n",
       "count     10000.000000  10000.000000  \n",
       "mean     100090.239881      0.203700  \n",
       "std       57510.492818      0.402769  \n",
       "min          11.580000      0.000000  \n",
       "25%       51002.110000      0.000000  \n",
       "50%      100193.915000      0.000000  \n",
       "75%      149388.247500      0.000000  \n",
       "max      199992.480000      1.000000  "
      ]
     },
     "execution_count": 4,
     "metadata": {},
     "output_type": "execute_result"
    }
   ],
   "source": [
    "df.describe()"
   ]
  },
  {
   "cell_type": "code",
   "execution_count": 36,
   "id": "17292045",
   "metadata": {},
   "outputs": [
    {
     "data": {
      "text/html": [
       "<div>\n",
       "<style scoped>\n",
       "    .dataframe tbody tr th:only-of-type {\n",
       "        vertical-align: middle;\n",
       "    }\n",
       "\n",
       "    .dataframe tbody tr th {\n",
       "        vertical-align: top;\n",
       "    }\n",
       "\n",
       "    .dataframe thead th {\n",
       "        text-align: right;\n",
       "    }\n",
       "</style>\n",
       "<table border=\"1\" class=\"dataframe\">\n",
       "  <thead>\n",
       "    <tr style=\"text-align: right;\">\n",
       "      <th></th>\n",
       "      <th>RowNumber</th>\n",
       "      <th>CustomerId</th>\n",
       "      <th>Surname</th>\n",
       "      <th>CreditScore</th>\n",
       "      <th>Geography</th>\n",
       "      <th>Gender</th>\n",
       "      <th>Age</th>\n",
       "      <th>Tenure</th>\n",
       "      <th>Balance</th>\n",
       "      <th>NumOfProducts</th>\n",
       "      <th>HasCrCard</th>\n",
       "      <th>IsActiveMember</th>\n",
       "      <th>EstimatedSalary</th>\n",
       "      <th>Exited</th>\n",
       "    </tr>\n",
       "  </thead>\n",
       "  <tbody>\n",
       "    <tr>\n",
       "      <th>0</th>\n",
       "      <td>1</td>\n",
       "      <td>15634602</td>\n",
       "      <td>Hargrave</td>\n",
       "      <td>619</td>\n",
       "      <td>France</td>\n",
       "      <td>Female</td>\n",
       "      <td>42</td>\n",
       "      <td>2</td>\n",
       "      <td>0.00</td>\n",
       "      <td>1</td>\n",
       "      <td>1</td>\n",
       "      <td>1</td>\n",
       "      <td>101348.88</td>\n",
       "      <td>1</td>\n",
       "    </tr>\n",
       "    <tr>\n",
       "      <th>1</th>\n",
       "      <td>2</td>\n",
       "      <td>15647311</td>\n",
       "      <td>Hill</td>\n",
       "      <td>608</td>\n",
       "      <td>Spain</td>\n",
       "      <td>Female</td>\n",
       "      <td>41</td>\n",
       "      <td>1</td>\n",
       "      <td>83807.86</td>\n",
       "      <td>1</td>\n",
       "      <td>0</td>\n",
       "      <td>1</td>\n",
       "      <td>112542.58</td>\n",
       "      <td>0</td>\n",
       "    </tr>\n",
       "    <tr>\n",
       "      <th>2</th>\n",
       "      <td>3</td>\n",
       "      <td>15619304</td>\n",
       "      <td>Onio</td>\n",
       "      <td>502</td>\n",
       "      <td>France</td>\n",
       "      <td>Female</td>\n",
       "      <td>42</td>\n",
       "      <td>8</td>\n",
       "      <td>159660.80</td>\n",
       "      <td>3</td>\n",
       "      <td>1</td>\n",
       "      <td>0</td>\n",
       "      <td>113931.57</td>\n",
       "      <td>1</td>\n",
       "    </tr>\n",
       "    <tr>\n",
       "      <th>3</th>\n",
       "      <td>4</td>\n",
       "      <td>15701354</td>\n",
       "      <td>Boni</td>\n",
       "      <td>699</td>\n",
       "      <td>France</td>\n",
       "      <td>Female</td>\n",
       "      <td>39</td>\n",
       "      <td>1</td>\n",
       "      <td>0.00</td>\n",
       "      <td>2</td>\n",
       "      <td>0</td>\n",
       "      <td>0</td>\n",
       "      <td>93826.63</td>\n",
       "      <td>0</td>\n",
       "    </tr>\n",
       "    <tr>\n",
       "      <th>4</th>\n",
       "      <td>5</td>\n",
       "      <td>15737888</td>\n",
       "      <td>Mitchell</td>\n",
       "      <td>850</td>\n",
       "      <td>Spain</td>\n",
       "      <td>Female</td>\n",
       "      <td>43</td>\n",
       "      <td>2</td>\n",
       "      <td>125510.82</td>\n",
       "      <td>1</td>\n",
       "      <td>1</td>\n",
       "      <td>1</td>\n",
       "      <td>79084.10</td>\n",
       "      <td>0</td>\n",
       "    </tr>\n",
       "  </tbody>\n",
       "</table>\n",
       "</div>"
      ],
      "text/plain": [
       "   RowNumber  CustomerId   Surname  CreditScore Geography  Gender  Age  \\\n",
       "0          1    15634602  Hargrave          619    France  Female   42   \n",
       "1          2    15647311      Hill          608     Spain  Female   41   \n",
       "2          3    15619304      Onio          502    France  Female   42   \n",
       "3          4    15701354      Boni          699    France  Female   39   \n",
       "4          5    15737888  Mitchell          850     Spain  Female   43   \n",
       "\n",
       "   Tenure    Balance  NumOfProducts  HasCrCard  IsActiveMember  \\\n",
       "0       2       0.00              1          1               1   \n",
       "1       1   83807.86              1          0               1   \n",
       "2       8  159660.80              3          1               0   \n",
       "3       1       0.00              2          0               0   \n",
       "4       2  125510.82              1          1               1   \n",
       "\n",
       "   EstimatedSalary  Exited  \n",
       "0        101348.88       1  \n",
       "1        112542.58       0  \n",
       "2        113931.57       1  \n",
       "3         93826.63       0  \n",
       "4         79084.10       0  "
      ]
     },
     "execution_count": 36,
     "metadata": {},
     "output_type": "execute_result"
    }
   ],
   "source": [
    "df.head()"
   ]
  },
  {
   "cell_type": "code",
   "execution_count": 5,
   "id": "0496edad",
   "metadata": {},
   "outputs": [
    {
     "data": {
      "text/plain": [
       "0    79.63\n",
       "1    20.37\n",
       "Name: Exited, dtype: float64"
      ]
     },
     "execution_count": 5,
     "metadata": {},
     "output_type": "execute_result"
    }
   ],
   "source": [
    "df['Exited'].value_counts(normalize=True)* 100"
   ]
  },
  {
   "cell_type": "code",
   "execution_count": 6,
   "id": "a8402b9c",
   "metadata": {},
   "outputs": [
    {
     "data": {
      "text/html": [
       "<div>\n",
       "<style scoped>\n",
       "    .dataframe tbody tr th:only-of-type {\n",
       "        vertical-align: middle;\n",
       "    }\n",
       "\n",
       "    .dataframe tbody tr th {\n",
       "        vertical-align: top;\n",
       "    }\n",
       "\n",
       "    .dataframe thead th {\n",
       "        text-align: right;\n",
       "    }\n",
       "</style>\n",
       "<table border=\"1\" class=\"dataframe\">\n",
       "  <thead>\n",
       "    <tr style=\"text-align: right;\">\n",
       "      <th>Exited</th>\n",
       "      <th>0</th>\n",
       "      <th>1</th>\n",
       "    </tr>\n",
       "    <tr>\n",
       "      <th>Gender</th>\n",
       "      <th></th>\n",
       "      <th></th>\n",
       "    </tr>\n",
       "  </thead>\n",
       "  <tbody>\n",
       "    <tr>\n",
       "      <th>Female</th>\n",
       "      <td>0.749285</td>\n",
       "      <td>0.250715</td>\n",
       "    </tr>\n",
       "    <tr>\n",
       "      <th>Male</th>\n",
       "      <td>0.835441</td>\n",
       "      <td>0.164559</td>\n",
       "    </tr>\n",
       "  </tbody>\n",
       "</table>\n",
       "</div>"
      ],
      "text/plain": [
       "Exited         0         1\n",
       "Gender                    \n",
       "Female  0.749285  0.250715\n",
       "Male    0.835441  0.164559"
      ]
     },
     "execution_count": 6,
     "metadata": {},
     "output_type": "execute_result"
    }
   ],
   "source": [
    "pd.crosstab( df.Gender, df.Exited, normalize = \"index\" )"
   ]
  },
  {
   "cell_type": "code",
   "execution_count": 7,
   "id": "44668bb7",
   "metadata": {},
   "outputs": [
    {
     "data": {
      "text/plain": [
       "Geography  Gender\n",
       "France     Female    38.773994\n",
       "           Male      38.296404\n",
       "Germany    Female    40.154233\n",
       "           Male      39.424772\n",
       "Spain      Female    39.199265\n",
       "           Male      38.649135\n",
       "Name: Age, dtype: float64"
      ]
     },
     "execution_count": 7,
     "metadata": {},
     "output_type": "execute_result"
    }
   ],
   "source": [
    "df.groupby( ['Geography','Gender' ])['Age'].mean()"
   ]
  },
  {
   "cell_type": "markdown",
   "id": "75ce5f3e",
   "metadata": {},
   "source": [
    "# Exploratory Data Analysis"
   ]
  },
  {
   "cell_type": "code",
   "execution_count": 21,
   "id": "507c86c3",
   "metadata": {},
   "outputs": [
    {
     "data": {
      "text/plain": [
       "<seaborn.axisgrid.FacetGrid at 0xfcffb4b820>"
      ]
     },
     "execution_count": 21,
     "metadata": {},
     "output_type": "execute_result"
    },
    {
     "data": {
      "image/png": "[encoded data removed]",
      "text/plain": [
       "<Figure size 360x360 with 1 Axes>"
      ]
     },
     "metadata": {
      "needs_background": "light"
     },
     "output_type": "display_data"
    }
   ],
   "source": [
    "sns.catplot(x='Exited',data=df,kind='count')"
   ]
  },
  {
   "cell_type": "code",
   "execution_count": 16,
   "id": "2f0ead1a",
   "metadata": {},
   "outputs": [
    {
     "name": "stderr",
     "output_type": "stream",
     "text": [
      "C:\\Users\\raman\\anaconda3\\lib\\site-packages\\seaborn\\distributions.py:2619: FutureWarning: `distplot` is a deprecated function and will be removed in a future version. Please adapt your code to use either `displot` (a figure-level function with similar flexibility) or `histplot` (an axes-level function for histograms).\n",
      "  warnings.warn(msg, FutureWarning)\n"
     ]
    },
    {
     "data": {
      "text/plain": [
       "<AxesSubplot:xlabel='Age', ylabel='Density'>"
      ]
     },
     "execution_count": 16,
     "metadata": {},
     "output_type": "execute_result"
    },
    {
     "data": {
      "image/png": "[encoded data removed]",
      "text/plain": [
       "<Figure size 432x288 with 1 Axes>"
      ]
     },
     "metadata": {
      "needs_background": "light"
     },
     "output_type": "display_data"
    }
   ],
   "source": [
    "sns.distplot(df['Age'],color='orange')\n",
    "\n"
   ]
  },
  {
   "cell_type": "markdown",
   "id": "b981bc4a",
   "metadata": {},
   "source": [
    "Age data is left skewed"
   ]
  },
  {
   "cell_type": "code",
   "execution_count": 20,
   "id": "af752292",
   "metadata": {},
   "outputs": [
    {
     "name": "stderr",
     "output_type": "stream",
     "text": [
      "C:\\Users\\raman\\anaconda3\\lib\\site-packages\\seaborn\\distributions.py:2619: FutureWarning: `distplot` is a deprecated function and will be removed in a future version. Please adapt your code to use either `displot` (a figure-level function with similar flexibility) or `histplot` (an axes-level function for histograms).\n",
      "  warnings.warn(msg, FutureWarning)\n"
     ]
    },
    {
     "data": {
      "text/plain": [
       "<AxesSubplot:xlabel='EstimatedSalary', ylabel='Density'>"
      ]
     },
     "execution_count": 20,
     "metadata": {},
     "output_type": "execute_result"
    },
    {
     "data": {
      "image/png": "[encoded data removed]",
      "text/plain": [
       "<Figure size 432x288 with 1 Axes>"
      ]
     },
     "metadata": {
      "needs_background": "light"
     },
     "output_type": "display_data"
    }
   ],
   "source": [
    "sns.distplot(df['EstimatedSalary'],color='blue')"
   ]
  },
  {
   "cell_type": "markdown",
   "id": "f3866516",
   "metadata": {},
   "source": [
    "Estimated Salary is uniformly Distributed"
   ]
  },
  {
   "cell_type": "code",
   "execution_count": 18,
   "id": "785dc6d0",
   "metadata": {},
   "outputs": [
    {
     "name": "stderr",
     "output_type": "stream",
     "text": [
      "C:\\Users\\raman\\anaconda3\\lib\\site-packages\\seaborn\\distributions.py:2619: FutureWarning: `distplot` is a deprecated function and will be removed in a future version. Please adapt your code to use either `displot` (a figure-level function with similar flexibility) or `histplot` (an axes-level function for histograms).\n",
      "  warnings.warn(msg, FutureWarning)\n"
     ]
    },
    {
     "data": {
      "text/plain": [
       "<AxesSubplot:xlabel='Balance', ylabel='Density'>"
      ]
     },
     "execution_count": 18,
     "metadata": {},
     "output_type": "execute_result"
    },
    {
     "data": {
      "image/png": "[encoded data removed]",
      "text/plain": [
       "<Figure size 432x288 with 1 Axes>"
      ]
     },
     "metadata": {
      "needs_background": "light"
     },
     "output_type": "display_data"
    }
   ],
   "source": [
    "sns.distplot(df['Balance'],color='blue')"
   ]
  },
  {
   "cell_type": "markdown",
   "id": "76cf3c94",
   "metadata": {},
   "source": [
    "Balance data have normal Distribution"
   ]
  },
  {
   "cell_type": "code",
   "execution_count": 22,
   "id": "c9638841",
   "metadata": {},
   "outputs": [
    {
     "name": "stderr",
     "output_type": "stream",
     "text": [
      "C:\\Users\\raman\\anaconda3\\lib\\site-packages\\seaborn\\distributions.py:2619: FutureWarning: `distplot` is a deprecated function and will be removed in a future version. Please adapt your code to use either `displot` (a figure-level function with similar flexibility) or `histplot` (an axes-level function for histograms).\n",
      "  warnings.warn(msg, FutureWarning)\n"
     ]
    },
    {
     "data": {
      "text/plain": [
       "<AxesSubplot:xlabel='CreditScore', ylabel='Density'>"
      ]
     },
     "execution_count": 22,
     "metadata": {},
     "output_type": "execute_result"
    },
    {
     "data": {
      "image/png": "[encoded data removed]",
      "text/plain": [
       "<Figure size 432x288 with 1 Axes>"
      ]
     },
     "metadata": {
      "needs_background": "light"
     },
     "output_type": "display_data"
    }
   ],
   "source": [
    "sns.distplot(df['CreditScore'],color='orange')"
   ]
  },
  {
   "cell_type": "markdown",
   "id": "2eec4528",
   "metadata": {},
   "source": [
    "Credit Score have normal distribution"
   ]
  },
  {
   "cell_type": "code",
   "execution_count": 8,
   "id": "13508af7",
   "metadata": {},
   "outputs": [
    {
     "data": {
      "text/plain": [
       "<seaborn.axisgrid.FacetGrid at 0xfcf0e6cb50>"
      ]
     },
     "execution_count": 8,
     "metadata": {},
     "output_type": "execute_result"
    },
    {
     "data": {
      "image/png": "[encoded data removed]",
      "text/plain": [
       "<Figure size 432.125x360 with 1 Axes>"
      ]
     },
     "metadata": {
      "needs_background": "light"
     },
     "output_type": "display_data"
    }
   ],
   "source": [
    "sns.catplot(x='IsActiveMember' ,hue=\"Gender\" ,kind=\"count\",data=df)"
   ]
  },
  {
   "cell_type": "code",
   "execution_count": 9,
   "id": "0dfcd4ca",
   "metadata": {},
   "outputs": [
    {
     "data": {
      "text/plain": [
       "<seaborn.axisgrid.FacetGrid at 0xfcf1263e20>"
      ]
     },
     "execution_count": 9,
     "metadata": {},
     "output_type": "execute_result"
    },
    {
     "data": {
      "image/png": "[encoded data removed]",
      "text/plain": [
       "<Figure size 432.125x360 with 1 Axes>"
      ]
     },
     "metadata": {
      "needs_background": "light"
     },
     "output_type": "display_data"
    }
   ],
   "source": [
    "sns.catplot(x='HasCrCard' ,hue=\"Gender\" ,kind=\"count\" ,data=df)"
   ]
  },
  {
   "cell_type": "code",
   "execution_count": 10,
   "id": "4a37d093",
   "metadata": {},
   "outputs": [
    {
     "data": {
      "text/plain": [
       "<seaborn.axisgrid.FacetGrid at 0xfcf125c340>"
      ]
     },
     "execution_count": 10,
     "metadata": {},
     "output_type": "execute_result"
    },
    {
     "data": {
      "image/png": "[encoded data removed]",
      "text/plain": [
       "<Figure size 432.125x360 with 1 Axes>"
      ]
     },
     "metadata": {
      "needs_background": "light"
     },
     "output_type": "display_data"
    }
   ],
   "source": [
    "sns.catplot(x='Exited' ,hue=\"Gender\" ,kind=\"count\" ,data=df)"
   ]
  },
  {
   "cell_type": "code",
   "execution_count": 11,
   "id": "ae8cc36f",
   "metadata": {},
   "outputs": [
    {
     "data": {
      "text/plain": [
       "<seaborn.axisgrid.FacetGrid at 0xfcfd11f970>"
      ]
     },
     "execution_count": 11,
     "metadata": {},
     "output_type": "execute_result"
    },
    {
     "data": {
      "image/png": "[encoded data removed]",
      "text/plain": [
       "<Figure size 448x360 with 1 Axes>"
      ]
     },
     "metadata": {
      "needs_background": "light"
     },
     "output_type": "display_data"
    }
   ],
   "source": [
    "sns.catplot(x='Exited' ,hue=\"IsActiveMember\" ,kind=\"count\" ,data=df)"
   ]
  },
  {
   "cell_type": "code",
   "execution_count": 42,
   "id": "140d565f",
   "metadata": {},
   "outputs": [
    {
     "data": {
      "text/plain": [
       "<AxesSubplot:>"
      ]
     },
     "execution_count": 42,
     "metadata": {},
     "output_type": "execute_result"
    },
    {
     "data": {
      "image/png": "[encoded data removed]",
      "text/plain": [
       "<Figure size 1080x1080 with 2 Axes>"
      ]
     },
     "metadata": {
      "needs_background": "light"
     },
     "output_type": "display_data"
    }
   ],
   "source": [
    "plt.figure(figsize=(15,15))\n",
    "sns.heatmap(df[['Age', 'Tenure', 'Balance', 'NumOfProducts', 'HasCrCard',\n",
    "       'IsActiveMember', 'EstimatedSalary', 'Exited']].corr(),annot=True,fmt='.2f',cbar=True)"
   ]
  },
  {
   "cell_type": "code",
   "execution_count": 31,
   "id": "c85f0d20",
   "metadata": {},
   "outputs": [
    {
     "name": "stderr",
     "output_type": "stream",
     "text": [
      "C:\\Users\\raman\\anaconda3\\lib\\site-packages\\seaborn\\_decorators.py:36: FutureWarning: Pass the following variable as a keyword arg: x. From version 0.12, the only valid positional argument will be `data`, and passing other arguments without an explicit keyword will result in an error or misinterpretation.\n",
      "  warnings.warn(\n",
      "C:\\Users\\raman\\anaconda3\\lib\\site-packages\\seaborn\\_decorators.py:36: FutureWarning: Pass the following variable as a keyword arg: x. From version 0.12, the only valid positional argument will be `data`, and passing other arguments without an explicit keyword will result in an error or misinterpretation.\n",
      "  warnings.warn(\n",
      "C:\\Users\\raman\\anaconda3\\lib\\site-packages\\seaborn\\_decorators.py:36: FutureWarning: Pass the following variable as a keyword arg: x. From version 0.12, the only valid positional argument will be `data`, and passing other arguments without an explicit keyword will result in an error or misinterpretation.\n",
      "  warnings.warn(\n",
      "C:\\Users\\raman\\anaconda3\\lib\\site-packages\\seaborn\\_decorators.py:36: FutureWarning: Pass the following variable as a keyword arg: x. From version 0.12, the only valid positional argument will be `data`, and passing other arguments without an explicit keyword will result in an error or misinterpretation.\n",
      "  warnings.warn(\n"
     ]
    },
    {
     "data": {
      "image/png": "[encoded data removed]",
      "text/plain": [
       "<Figure size 432x1296 with 4 Axes>"
      ]
     },
     "metadata": {
      "needs_background": "light"
     },
     "output_type": "display_data"
    }
   ],
   "source": [
    "fig,axs = plt.subplots(4,figsize=(6,18))\n",
    "X =df[['Age','CreditScore','Balance','EstimatedSalary']]\n",
    "for i,column in enumerate(X) :\n",
    "    sns.boxplot(df[column],ax=axs[i])"
   ]
  },
  {
   "cell_type": "code",
   "execution_count": 32,
   "id": "5fbf6227",
   "metadata": {},
   "outputs": [],
   "source": [
    "# Removing the outliers for Age \n",
    "\n",
    "q1_age =df['Age'].quantile(0.25)\n",
    "q3_age=df['Age'].quantile(0.75)\n",
    "iqr_age=q3_age-q1_age\n",
    "lower=q1_age-(1.5 * iqr_age)\n",
    "upper=q3_age+(1.5 * iqr_age)\n",
    "df=df[df['Age']>lower]\n",
    "df=df[df['Age']<upper]"
   ]
  },
  {
   "cell_type": "code",
   "execution_count": 33,
   "id": "6aa01505",
   "metadata": {},
   "outputs": [],
   "source": [
    "# Removing the outliers for credit score\n",
    "\n",
    "q1_credit=df['CreditScore'].quantile(0.25)\n",
    "q3_credit=df['CreditScore'].quantile(0.75)\n",
    "iqr_credit=q3_credit-q1_credit\n",
    "lower=q1_credit-(1.5 * iqr_credit)\n",
    "upper=q3_credit+(1.5 * iqr_credit)\n",
    "df=df[df['CreditScore']>lower]\n",
    "df=df[df['CreditScore']<upper]"
   ]
  },
  {
   "cell_type": "markdown",
   "id": "daa933f7",
   "metadata": {},
   "source": [
    "# Network Building"
   ]
  },
  {
   "cell_type": "code",
   "execution_count": 3,
   "id": "e8398c8b",
   "metadata": {},
   "outputs": [],
   "source": [
    "\n",
    "X = df.iloc[:,3:13]\n",
    "y = df.iloc[:,13]"
   ]
  },
  {
   "cell_type": "code",
   "execution_count": 4,
   "id": "1fbd6739",
   "metadata": {},
   "outputs": [],
   "source": [
    "#create dummy variable\n",
    "geography = pd.get_dummies(X['Geography'],drop_first=True)\n",
    "gender = pd.get_dummies(X['Gender'],drop_first=True)"
   ]
  },
  {
   "cell_type": "code",
   "execution_count": 5,
   "id": "8258c474",
   "metadata": {},
   "outputs": [],
   "source": [
    "# concatenate the data frames\n",
    "X = pd.concat([X,geography,gender],axis=1)"
   ]
  },
  {
   "cell_type": "code",
   "execution_count": 6,
   "id": "53217878",
   "metadata": {},
   "outputs": [],
   "source": [
    "# drop unnecessary columns\n",
    "X=X.drop(['Geography','Gender'],axis=1)"
   ]
  },
  {
   "cell_type": "code",
   "execution_count": 7,
   "id": "39e35346",
   "metadata": {},
   "outputs": [],
   "source": [
    "# splitting the dataset into traing and test set\n",
    "from sklearn.model_selection import train_test_split\n",
    "X_train,X_test,y_train,y_test = train_test_split(X,y,test_size=0.2,random_state=42)"
   ]
  },
  {
   "cell_type": "code",
   "execution_count": 8,
   "id": "582509c2",
   "metadata": {},
   "outputs": [
    {
     "data": {
      "text/html": [
       "<div>\n",
       "<style scoped>\n",
       "    .dataframe tbody tr th:only-of-type {\n",
       "        vertical-align: middle;\n",
       "    }\n",
       "\n",
       "    .dataframe tbody tr th {\n",
       "        vertical-align: top;\n",
       "    }\n",
       "\n",
       "    .dataframe thead th {\n",
       "        text-align: right;\n",
       "    }\n",
       "</style>\n",
       "<table border=\"1\" class=\"dataframe\">\n",
       "  <thead>\n",
       "    <tr style=\"text-align: right;\">\n",
       "      <th></th>\n",
       "      <th>CreditScore</th>\n",
       "      <th>Age</th>\n",
       "      <th>Tenure</th>\n",
       "      <th>Balance</th>\n",
       "      <th>NumOfProducts</th>\n",
       "      <th>HasCrCard</th>\n",
       "      <th>IsActiveMember</th>\n",
       "      <th>EstimatedSalary</th>\n",
       "      <th>Germany</th>\n",
       "      <th>Spain</th>\n",
       "      <th>Male</th>\n",
       "    </tr>\n",
       "  </thead>\n",
       "  <tbody>\n",
       "    <tr>\n",
       "      <th>0</th>\n",
       "      <td>619</td>\n",
       "      <td>42</td>\n",
       "      <td>2</td>\n",
       "      <td>0.00</td>\n",
       "      <td>1</td>\n",
       "      <td>1</td>\n",
       "      <td>1</td>\n",
       "      <td>101348.88</td>\n",
       "      <td>0</td>\n",
       "      <td>0</td>\n",
       "      <td>0</td>\n",
       "    </tr>\n",
       "    <tr>\n",
       "      <th>1</th>\n",
       "      <td>608</td>\n",
       "      <td>41</td>\n",
       "      <td>1</td>\n",
       "      <td>83807.86</td>\n",
       "      <td>1</td>\n",
       "      <td>0</td>\n",
       "      <td>1</td>\n",
       "      <td>112542.58</td>\n",
       "      <td>0</td>\n",
       "      <td>1</td>\n",
       "      <td>0</td>\n",
       "    </tr>\n",
       "    <tr>\n",
       "      <th>2</th>\n",
       "      <td>502</td>\n",
       "      <td>42</td>\n",
       "      <td>8</td>\n",
       "      <td>159660.80</td>\n",
       "      <td>3</td>\n",
       "      <td>1</td>\n",
       "      <td>0</td>\n",
       "      <td>113931.57</td>\n",
       "      <td>0</td>\n",
       "      <td>0</td>\n",
       "      <td>0</td>\n",
       "    </tr>\n",
       "    <tr>\n",
       "      <th>3</th>\n",
       "      <td>699</td>\n",
       "      <td>39</td>\n",
       "      <td>1</td>\n",
       "      <td>0.00</td>\n",
       "      <td>2</td>\n",
       "      <td>0</td>\n",
       "      <td>0</td>\n",
       "      <td>93826.63</td>\n",
       "      <td>0</td>\n",
       "      <td>0</td>\n",
       "      <td>0</td>\n",
       "    </tr>\n",
       "    <tr>\n",
       "      <th>4</th>\n",
       "      <td>850</td>\n",
       "      <td>43</td>\n",
       "      <td>2</td>\n",
       "      <td>125510.82</td>\n",
       "      <td>1</td>\n",
       "      <td>1</td>\n",
       "      <td>1</td>\n",
       "      <td>79084.10</td>\n",
       "      <td>0</td>\n",
       "      <td>1</td>\n",
       "      <td>0</td>\n",
       "    </tr>\n",
       "  </tbody>\n",
       "</table>\n",
       "</div>"
      ],
      "text/plain": [
       "   CreditScore  Age  Tenure    Balance  NumOfProducts  HasCrCard  \\\n",
       "0          619   42       2       0.00              1          1   \n",
       "1          608   41       1   83807.86              1          0   \n",
       "2          502   42       8  159660.80              3          1   \n",
       "3          699   39       1       0.00              2          0   \n",
       "4          850   43       2  125510.82              1          1   \n",
       "\n",
       "   IsActiveMember  EstimatedSalary  Germany  Spain  Male  \n",
       "0               1        101348.88        0      0     0  \n",
       "1               1        112542.58        0      1     0  \n",
       "2               0        113931.57        0      0     0  \n",
       "3               0         93826.63        0      0     0  \n",
       "4               1         79084.10        0      1     0  "
      ]
     },
     "execution_count": 8,
     "metadata": {},
     "output_type": "execute_result"
    }
   ],
   "source": [
    "X.head()"
   ]
  },
  {
   "cell_type": "code",
   "execution_count": 9,
   "id": "757b158c",
   "metadata": {},
   "outputs": [],
   "source": [
    "#feature scaling\n",
    "from sklearn.preprocessing import StandardScaler\n",
    "sc = StandardScaler()\n",
    "X_train = sc.fit_transform(X_train)\n",
    "X_test = sc.fit_transform(X_test)"
   ]
  },
  {
   "cell_type": "code",
   "execution_count": 10,
   "id": "f32b1f96",
   "metadata": {},
   "outputs": [],
   "source": [
    "# importing libraries\n",
    "import keras\n",
    "from keras.models import Sequential\n",
    "from keras.layers import Dense\n",
    "#from keras.layers import LeakyReLU,PReLU,ELU\n",
    "from keras.layers import Dropout"
   ]
  },
  {
   "cell_type": "code",
   "execution_count": 11,
   "id": "7176f22a",
   "metadata": {},
   "outputs": [],
   "source": [
    "#initialising the ANN\n",
    "classifier = Sequential()"
   ]
  },
  {
   "cell_type": "code",
   "execution_count": 12,
   "id": "f8f5adca",
   "metadata": {},
   "outputs": [],
   "source": [
    "# Adding the input layer and the first hidden layer\n",
    "classifier.add(Dense(units = 6, kernel_initializer = 'he_uniform',activation='relu',input_dim = 11))\n"
   ]
  },
  {
   "cell_type": "code",
   "execution_count": 13,
   "id": "088a5258",
   "metadata": {},
   "outputs": [],
   "source": [
    "##Adding the second layer\n",
    "classifier.add(Dense(units = 6, kernel_initializer = 'he_uniform',activation='relu'))\n",
    "\n"
   ]
  },
  {
   "cell_type": "code",
   "execution_count": 14,
   "id": "07e8bfc7",
   "metadata": {},
   "outputs": [],
   "source": [
    "# adding th eoutput layer\n",
    "classifier.add(Dense(units = 1, kernel_initializer = 'glorot_uniform',activation='sigmoid'))\n"
   ]
  },
  {
   "cell_type": "code",
   "execution_count": 15,
   "id": "f115bf27",
   "metadata": {},
   "outputs": [],
   "source": [
    "\n",
    "# Compiling the ANN\n",
    "classifier.compile(optimizer = 'Adamax', loss = 'binary_crossentropy', metrics = ['accuracy'])\n"
   ]
  },
  {
   "cell_type": "code",
   "execution_count": 16,
   "id": "68b503ac",
   "metadata": {},
   "outputs": [
    {
     "name": "stdout",
     "output_type": "stream",
     "text": [
      "Epoch 1/100\n",
      "536/536 [==============================] - 8s 8ms/step - loss: 0.5828 - accuracy: 0.7186 - val_loss: 0.5098 - val_accuracy: 0.7887\n",
      "Epoch 2/100\n",
      "536/536 [==============================] - 4s 7ms/step - loss: 0.4937 - accuracy: 0.7962 - val_loss: 0.4888 - val_accuracy: 0.7910\n",
      "Epoch 3/100\n",
      "536/536 [==============================] - 4s 7ms/step - loss: 0.4758 - accuracy: 0.7964 - val_loss: 0.4755 - val_accuracy: 0.7906\n",
      "Epoch 4/100\n",
      "536/536 [==============================] - 4s 7ms/step - loss: 0.4631 - accuracy: 0.7962 - val_loss: 0.4648 - val_accuracy: 0.7914\n",
      "Epoch 5/100\n",
      "536/536 [==============================] - 4s 7ms/step - loss: 0.4530 - accuracy: 0.7975 - val_loss: 0.4566 - val_accuracy: 0.7917\n",
      "Epoch 6/100\n",
      "536/536 [==============================] - 4s 7ms/step - loss: 0.4445 - accuracy: 0.8024 - val_loss: 0.4500 - val_accuracy: 0.7974\n",
      "Epoch 7/100\n",
      "536/536 [==============================] - 4s 7ms/step - loss: 0.4372 - accuracy: 0.8050 - val_loss: 0.4455 - val_accuracy: 0.7989\n",
      "Epoch 8/100\n",
      "536/536 [==============================] - 3s 6ms/step - loss: 0.4308 - accuracy: 0.8085 - val_loss: 0.4409 - val_accuracy: 0.8039\n",
      "Epoch 9/100\n",
      "536/536 [==============================] - 4s 8ms/step - loss: 0.4253 - accuracy: 0.8119 - val_loss: 0.4371 - val_accuracy: 0.8039\n",
      "Epoch 10/100\n",
      "536/536 [==============================] - 4s 7ms/step - loss: 0.4206 - accuracy: 0.8125 - val_loss: 0.4340 - val_accuracy: 0.8088\n",
      "Epoch 11/100\n",
      "536/536 [==============================] - 4s 7ms/step - loss: 0.4163 - accuracy: 0.8155 - val_loss: 0.4311 - val_accuracy: 0.8069\n",
      "Epoch 12/100\n",
      "536/536 [==============================] - 4s 7ms/step - loss: 0.4126 - accuracy: 0.8207 - val_loss: 0.4288 - val_accuracy: 0.8084\n",
      "Epoch 13/100\n",
      "536/536 [==============================] - 4s 7ms/step - loss: 0.4096 - accuracy: 0.8192 - val_loss: 0.4266 - val_accuracy: 0.8103\n",
      "Epoch 14/100\n",
      "536/536 [==============================] - 4s 7ms/step - loss: 0.4071 - accuracy: 0.8216 - val_loss: 0.4248 - val_accuracy: 0.8107\n",
      "Epoch 15/100\n",
      "536/536 [==============================] - 4s 7ms/step - loss: 0.4046 - accuracy: 0.8220 - val_loss: 0.4235 - val_accuracy: 0.8107\n",
      "Epoch 16/100\n",
      "536/536 [==============================] - 4s 7ms/step - loss: 0.4025 - accuracy: 0.8218 - val_loss: 0.4221 - val_accuracy: 0.8122\n",
      "Epoch 17/100\n",
      "536/536 [==============================] - 4s 7ms/step - loss: 0.4003 - accuracy: 0.8222 - val_loss: 0.4207 - val_accuracy: 0.8118\n",
      "Epoch 18/100\n",
      "536/536 [==============================] - 4s 7ms/step - loss: 0.3985 - accuracy: 0.8240 - val_loss: 0.4195 - val_accuracy: 0.8103\n",
      "Epoch 19/100\n",
      "536/536 [==============================] - 4s 7ms/step - loss: 0.3967 - accuracy: 0.8233 - val_loss: 0.4186 - val_accuracy: 0.8137\n",
      "Epoch 20/100\n",
      "536/536 [==============================] - 4s 7ms/step - loss: 0.3951 - accuracy: 0.8231 - val_loss: 0.4167 - val_accuracy: 0.8122\n",
      "Epoch 21/100\n",
      "536/536 [==============================] - 4s 7ms/step - loss: 0.3934 - accuracy: 0.8238 - val_loss: 0.4160 - val_accuracy: 0.8148\n",
      "Epoch 22/100\n",
      "536/536 [==============================] - 4s 7ms/step - loss: 0.3921 - accuracy: 0.8238 - val_loss: 0.4145 - val_accuracy: 0.8148\n",
      "Epoch 23/100\n",
      "536/536 [==============================] - 4s 7ms/step - loss: 0.3905 - accuracy: 0.8240 - val_loss: 0.4134 - val_accuracy: 0.8164\n",
      "Epoch 24/100\n",
      "536/536 [==============================] - 4s 7ms/step - loss: 0.3892 - accuracy: 0.8238 - val_loss: 0.4120 - val_accuracy: 0.8160\n",
      "Epoch 25/100\n",
      "536/536 [==============================] - 4s 7ms/step - loss: 0.3879 - accuracy: 0.8240 - val_loss: 0.4111 - val_accuracy: 0.8156\n",
      "Epoch 26/100\n",
      "536/536 [==============================] - 4s 7ms/step - loss: 0.3864 - accuracy: 0.8250 - val_loss: 0.4105 - val_accuracy: 0.8183\n",
      "Epoch 27/100\n",
      "536/536 [==============================] - 3s 6ms/step - loss: 0.3855 - accuracy: 0.8242 - val_loss: 0.4094 - val_accuracy: 0.8190\n",
      "Epoch 28/100\n",
      "536/536 [==============================] - 3s 6ms/step - loss: 0.3842 - accuracy: 0.8248 - val_loss: 0.4085 - val_accuracy: 0.8183\n",
      "Epoch 29/100\n",
      "536/536 [==============================] - 3s 6ms/step - loss: 0.3831 - accuracy: 0.8252 - val_loss: 0.4078 - val_accuracy: 0.8198\n",
      "Epoch 30/100\n",
      "536/536 [==============================] - 3s 6ms/step - loss: 0.3820 - accuracy: 0.8238 - val_loss: 0.4065 - val_accuracy: 0.8160\n",
      "Epoch 31/100\n",
      "536/536 [==============================] - 4s 7ms/step - loss: 0.3811 - accuracy: 0.8250 - val_loss: 0.4060 - val_accuracy: 0.8171\n",
      "Epoch 32/100\n",
      "536/536 [==============================] - 4s 7ms/step - loss: 0.3802 - accuracy: 0.8250 - val_loss: 0.4052 - val_accuracy: 0.8171\n",
      "Epoch 33/100\n",
      "536/536 [==============================] - 3s 6ms/step - loss: 0.3792 - accuracy: 0.8244 - val_loss: 0.4050 - val_accuracy: 0.8194\n",
      "Epoch 34/100\n",
      "536/536 [==============================] - 3s 6ms/step - loss: 0.3787 - accuracy: 0.8238 - val_loss: 0.4038 - val_accuracy: 0.8164\n",
      "Epoch 35/100\n",
      "536/536 [==============================] - 4s 7ms/step - loss: 0.3779 - accuracy: 0.8246 - val_loss: 0.4032 - val_accuracy: 0.8179\n",
      "Epoch 36/100\n",
      "536/536 [==============================] - 4s 7ms/step - loss: 0.3769 - accuracy: 0.8250 - val_loss: 0.4025 - val_accuracy: 0.8164\n",
      "Epoch 37/100\n",
      "536/536 [==============================] - 3s 6ms/step - loss: 0.3762 - accuracy: 0.8240 - val_loss: 0.4021 - val_accuracy: 0.8209\n",
      "Epoch 38/100\n",
      "536/536 [==============================] - 3s 6ms/step - loss: 0.3754 - accuracy: 0.8237 - val_loss: 0.4014 - val_accuracy: 0.8209\n",
      "Epoch 39/100\n",
      "536/536 [==============================] - 3s 6ms/step - loss: 0.3747 - accuracy: 0.8252 - val_loss: 0.4005 - val_accuracy: 0.8186\n",
      "Epoch 40/100\n",
      "536/536 [==============================] - 4s 7ms/step - loss: 0.3740 - accuracy: 0.8238 - val_loss: 0.4002 - val_accuracy: 0.8179\n",
      "Epoch 41/100\n",
      "536/536 [==============================] - 4s 7ms/step - loss: 0.3733 - accuracy: 0.8242 - val_loss: 0.3996 - val_accuracy: 0.8217\n",
      "Epoch 42/100\n",
      "536/536 [==============================] - 4s 7ms/step - loss: 0.3726 - accuracy: 0.8250 - val_loss: 0.3992 - val_accuracy: 0.8217\n",
      "Epoch 43/100\n",
      "536/536 [==============================] - 4s 7ms/step - loss: 0.3719 - accuracy: 0.8263 - val_loss: 0.3990 - val_accuracy: 0.8194\n",
      "Epoch 44/100\n",
      "536/536 [==============================] - 4s 7ms/step - loss: 0.3713 - accuracy: 0.8250 - val_loss: 0.3980 - val_accuracy: 0.8194\n",
      "Epoch 45/100\n",
      "536/536 [==============================] - 4s 7ms/step - loss: 0.3707 - accuracy: 0.8259 - val_loss: 0.3973 - val_accuracy: 0.8171\n",
      "Epoch 46/100\n",
      "536/536 [==============================] - 4s 7ms/step - loss: 0.3697 - accuracy: 0.8266 - val_loss: 0.3979 - val_accuracy: 0.8186\n",
      "Epoch 47/100\n",
      "536/536 [==============================] - 5s 9ms/step - loss: 0.3692 - accuracy: 0.8252 - val_loss: 0.3963 - val_accuracy: 0.8183\n",
      "Epoch 48/100\n",
      "536/536 [==============================] - 5s 9ms/step - loss: 0.3686 - accuracy: 0.8268 - val_loss: 0.3960 - val_accuracy: 0.8190\n",
      "Epoch 49/100\n",
      "536/536 [==============================] - 4s 7ms/step - loss: 0.3681 - accuracy: 0.8265 - val_loss: 0.3955 - val_accuracy: 0.8179\n",
      "Epoch 50/100\n",
      "536/536 [==============================] - 4s 7ms/step - loss: 0.3675 - accuracy: 0.8261 - val_loss: 0.3949 - val_accuracy: 0.8171\n",
      "Epoch 51/100\n",
      "536/536 [==============================] - 5s 8ms/step - loss: 0.3667 - accuracy: 0.8274 - val_loss: 0.3949 - val_accuracy: 0.8190\n",
      "Epoch 52/100\n",
      "536/536 [==============================] - 4s 8ms/step - loss: 0.3663 - accuracy: 0.8263 - val_loss: 0.3938 - val_accuracy: 0.8175\n",
      "Epoch 53/100\n",
      "536/536 [==============================] - 5s 8ms/step - loss: 0.3656 - accuracy: 0.8268 - val_loss: 0.3933 - val_accuracy: 0.8171\n",
      "Epoch 54/100\n",
      "536/536 [==============================] - 3s 6ms/step - loss: 0.3651 - accuracy: 0.8255 - val_loss: 0.3928 - val_accuracy: 0.8183\n",
      "Epoch 55/100\n",
      "536/536 [==============================] - 3s 5ms/step - loss: 0.3645 - accuracy: 0.8270 - val_loss: 0.3922 - val_accuracy: 0.8194\n",
      "Epoch 56/100\n",
      "536/536 [==============================] - 4s 8ms/step - loss: 0.3639 - accuracy: 0.8270 - val_loss: 0.3917 - val_accuracy: 0.8179\n",
      "Epoch 57/100\n",
      "536/536 [==============================] - 5s 8ms/step - loss: 0.3635 - accuracy: 0.8276 - val_loss: 0.3911 - val_accuracy: 0.8167\n",
      "Epoch 58/100\n",
      "536/536 [==============================] - 2s 4ms/step - loss: 0.3627 - accuracy: 0.8416 - val_loss: 0.3904 - val_accuracy: 0.8349\n",
      "Epoch 59/100\n",
      "536/536 [==============================] - 2s 5ms/step - loss: 0.3622 - accuracy: 0.8479 - val_loss: 0.3900 - val_accuracy: 0.8338\n",
      "Epoch 60/100\n",
      "536/536 [==============================] - 4s 7ms/step - loss: 0.3616 - accuracy: 0.8466 - val_loss: 0.3893 - val_accuracy: 0.8372\n",
      "Epoch 61/100\n",
      "536/536 [==============================] - 4s 7ms/step - loss: 0.3609 - accuracy: 0.8485 - val_loss: 0.3888 - val_accuracy: 0.8368\n",
      "Epoch 62/100\n",
      "536/536 [==============================] - 4s 7ms/step - loss: 0.3602 - accuracy: 0.8489 - val_loss: 0.3882 - val_accuracy: 0.8364\n",
      "Epoch 63/100\n",
      "536/536 [==============================] - 4s 7ms/step - loss: 0.3596 - accuracy: 0.8496 - val_loss: 0.3874 - val_accuracy: 0.8383\n",
      "Epoch 64/100\n",
      "536/536 [==============================] - 4s 7ms/step - loss: 0.3590 - accuracy: 0.8492 - val_loss: 0.3876 - val_accuracy: 0.8364\n",
      "Epoch 65/100\n",
      "536/536 [==============================] - 4s 8ms/step - loss: 0.3584 - accuracy: 0.8507 - val_loss: 0.3866 - val_accuracy: 0.8402\n",
      "Epoch 66/100\n",
      "536/536 [==============================] - 4s 8ms/step - loss: 0.3577 - accuracy: 0.8528 - val_loss: 0.3859 - val_accuracy: 0.8417\n",
      "Epoch 67/100\n",
      "536/536 [==============================] - 5s 9ms/step - loss: 0.3571 - accuracy: 0.8522 - val_loss: 0.3852 - val_accuracy: 0.8410\n",
      "Epoch 68/100\n",
      "536/536 [==============================] - 4s 8ms/step - loss: 0.3565 - accuracy: 0.8533 - val_loss: 0.3849 - val_accuracy: 0.8395\n",
      "Epoch 69/100\n",
      "536/536 [==============================] - 3s 5ms/step - loss: 0.3560 - accuracy: 0.8531 - val_loss: 0.3839 - val_accuracy: 0.8406\n",
      "Epoch 70/100\n",
      "536/536 [==============================] - 5s 9ms/step - loss: 0.3553 - accuracy: 0.8530 - val_loss: 0.3836 - val_accuracy: 0.8402\n",
      "Epoch 71/100\n",
      "536/536 [==============================] - 4s 7ms/step - loss: 0.3547 - accuracy: 0.8541 - val_loss: 0.3829 - val_accuracy: 0.8406\n",
      "Epoch 72/100\n",
      "536/536 [==============================] - 3s 6ms/step - loss: 0.3540 - accuracy: 0.8554 - val_loss: 0.3827 - val_accuracy: 0.8410\n",
      "Epoch 73/100\n",
      "536/536 [==============================] - 3s 5ms/step - loss: 0.3537 - accuracy: 0.8548 - val_loss: 0.3822 - val_accuracy: 0.8406\n",
      "Epoch 74/100\n",
      "536/536 [==============================] - 3s 5ms/step - loss: 0.3532 - accuracy: 0.8545 - val_loss: 0.3818 - val_accuracy: 0.8410\n",
      "Epoch 75/100\n",
      "536/536 [==============================] - 5s 9ms/step - loss: 0.3528 - accuracy: 0.8558 - val_loss: 0.3813 - val_accuracy: 0.8417\n",
      "Epoch 76/100\n",
      "536/536 [==============================] - 5s 9ms/step - loss: 0.3522 - accuracy: 0.8565 - val_loss: 0.3810 - val_accuracy: 0.8413\n",
      "Epoch 77/100\n",
      "536/536 [==============================] - 5s 9ms/step - loss: 0.3518 - accuracy: 0.8559 - val_loss: 0.3807 - val_accuracy: 0.8417\n",
      "Epoch 78/100\n",
      "536/536 [==============================] - 4s 7ms/step - loss: 0.3511 - accuracy: 0.8561 - val_loss: 0.3802 - val_accuracy: 0.8425\n",
      "Epoch 79/100\n",
      "536/536 [==============================] - 4s 7ms/step - loss: 0.3505 - accuracy: 0.8580 - val_loss: 0.3808 - val_accuracy: 0.8432\n",
      "Epoch 80/100\n",
      "536/536 [==============================] - 4s 7ms/step - loss: 0.3502 - accuracy: 0.8574 - val_loss: 0.3794 - val_accuracy: 0.8432\n",
      "Epoch 81/100\n",
      "536/536 [==============================] - 4s 7ms/step - loss: 0.3500 - accuracy: 0.8565 - val_loss: 0.3791 - val_accuracy: 0.8448\n",
      "Epoch 82/100\n",
      "536/536 [==============================] - 4s 7ms/step - loss: 0.3494 - accuracy: 0.8569 - val_loss: 0.3789 - val_accuracy: 0.8448\n",
      "Epoch 83/100\n",
      "536/536 [==============================] - 4s 7ms/step - loss: 0.3489 - accuracy: 0.8571 - val_loss: 0.3784 - val_accuracy: 0.8459\n",
      "Epoch 84/100\n",
      "536/536 [==============================] - 4s 7ms/step - loss: 0.3484 - accuracy: 0.8578 - val_loss: 0.3779 - val_accuracy: 0.8455\n",
      "Epoch 85/100\n",
      "536/536 [==============================] - 4s 7ms/step - loss: 0.3480 - accuracy: 0.8580 - val_loss: 0.3776 - val_accuracy: 0.8448\n",
      "Epoch 86/100\n",
      "536/536 [==============================] - 4s 7ms/step - loss: 0.3477 - accuracy: 0.8576 - val_loss: 0.3772 - val_accuracy: 0.8455\n",
      "Epoch 87/100\n",
      "536/536 [==============================] - 4s 8ms/step - loss: 0.3471 - accuracy: 0.8597 - val_loss: 0.3773 - val_accuracy: 0.8444\n",
      "Epoch 88/100\n",
      "536/536 [==============================] - 4s 8ms/step - loss: 0.3467 - accuracy: 0.8593 - val_loss: 0.3771 - val_accuracy: 0.8436\n",
      "Epoch 89/100\n",
      "536/536 [==============================] - 5s 9ms/step - loss: 0.3465 - accuracy: 0.8586 - val_loss: 0.3764 - val_accuracy: 0.8451\n",
      "Epoch 90/100\n",
      "536/536 [==============================] - 4s 7ms/step - loss: 0.3459 - accuracy: 0.8597 - val_loss: 0.3763 - val_accuracy: 0.8444\n",
      "Epoch 91/100\n",
      "536/536 [==============================] - 3s 5ms/step - loss: 0.3456 - accuracy: 0.8589 - val_loss: 0.3755 - val_accuracy: 0.8440\n",
      "Epoch 92/100\n",
      "536/536 [==============================] - 4s 8ms/step - loss: 0.3454 - accuracy: 0.8593 - val_loss: 0.3751 - val_accuracy: 0.8459\n",
      "Epoch 93/100\n",
      "536/536 [==============================] - 5s 9ms/step - loss: 0.3448 - accuracy: 0.8595 - val_loss: 0.3749 - val_accuracy: 0.8470\n",
      "Epoch 94/100\n",
      "536/536 [==============================] - 3s 6ms/step - loss: 0.3446 - accuracy: 0.8597 - val_loss: 0.3747 - val_accuracy: 0.8463\n",
      "Epoch 95/100\n",
      "536/536 [==============================] - 3s 5ms/step - loss: 0.3442 - accuracy: 0.8614 - val_loss: 0.3745 - val_accuracy: 0.8455\n",
      "Epoch 96/100\n",
      "536/536 [==============================] - 2s 4ms/step - loss: 0.3438 - accuracy: 0.8621 - val_loss: 0.3740 - val_accuracy: 0.8466\n",
      "Epoch 97/100\n",
      "536/536 [==============================] - 4s 8ms/step - loss: 0.3434 - accuracy: 0.8606 - val_loss: 0.3738 - val_accuracy: 0.8463\n",
      "Epoch 98/100\n",
      "536/536 [==============================] - 5s 9ms/step - loss: 0.3429 - accuracy: 0.8615 - val_loss: 0.3732 - val_accuracy: 0.8463\n",
      "Epoch 99/100\n",
      "536/536 [==============================] - 4s 7ms/step - loss: 0.3427 - accuracy: 0.8615 - val_loss: 0.3729 - val_accuracy: 0.8466\n",
      "Epoch 100/100\n",
      "536/536 [==============================] - 4s 8ms/step - loss: 0.3423 - accuracy: 0.8614 - val_loss: 0.3728 - val_accuracy: 0.8459\n"
     ]
    }
   ],
   "source": [
    "# Fitting the ANN to the Training set\n",
    "model_history=classifier.fit(X_train, y_train,validation_split=0.33, batch_size = 10, epochs=100)\n"
   ]
  },
  {
   "cell_type": "code",
   "execution_count": 18,
   "id": "095d49f0",
   "metadata": {},
   "outputs": [
    {
     "name": "stdout",
     "output_type": "stream",
     "text": [
      "800/800 [==============================] - 3s 4ms/step - loss: 0.3311 - accuracy: 0.8648\n",
      "Train score: 0.3310734033584595\n",
      "Train accuracy: 0.8647500276565552\n"
     ]
    }
   ],
   "source": [
    "# Fitting the ANN to the Training set\n",
    "classifier.fit(X_train, y_train, batch_size = 10, epochs = 100,verbose = 0)\n",
    "\n",
    "score, acc = classifier.evaluate(X_train, y_train,batch_size=10)\n",
    "print('Train score:', score)\n",
    "print('Train accuracy:', acc)"
   ]
  },
  {
   "cell_type": "code",
   "execution_count": 19,
   "id": "91ace5f5",
   "metadata": {},
   "outputs": [
    {
     "name": "stdout",
     "output_type": "stream",
     "text": [
      "63/63 [==============================] - 1s 3ms/step\n",
      "********************\n",
      "200/200 [==============================] - 1s 4ms/step - loss: 0.3384 - accuracy: 0.8595\n",
      "Test score: 0.33838707208633423\n",
      "Test accuracy: 0.859499990940094\n"
     ]
    }
   ],
   "source": [
    "# Part 3 - Making predictions and evaluating the model\n",
    "\n",
    "# Predicting the Test set results\n",
    "y_pred = classifier.predict(X_test)\n",
    "y_pred = (y_pred > 0.5)\n",
    "\n",
    "print('*'*20)\n",
    "score, acc = classifier.evaluate(X_test, y_test,\n",
    "                            batch_size=10)\n",
    "print('Test score:', score)\n",
    "print('Test accuracy:', acc)"
   ]
  },
  {
   "cell_type": "code",
   "execution_count": 20,
   "id": "31318167",
   "metadata": {},
   "outputs": [
    {
     "data": {
      "text/plain": [
       "array([[1541,   66],\n",
       "       [ 215,  178]], dtype=int64)"
      ]
     },
     "execution_count": 20,
     "metadata": {},
     "output_type": "execute_result"
    }
   ],
   "source": [
    "# Making the Confusion Matrix\n",
    "from sklearn.metrics import confusion_matrix\n",
    "cm = confusion_matrix(y_test, y_pred)\n",
    "cm"
   ]
  },
  {
   "cell_type": "code",
   "execution_count": 23,
   "id": "f217bf19",
   "metadata": {},
   "outputs": [
    {
     "data": {
      "text/plain": [
       "Text(0.5, 15.0, 'Predicted label')"
      ]
     },
     "execution_count": 23,
     "metadata": {},
     "output_type": "execute_result"
    },
    {
     "data": {
      "image/png": "[encoded data removed]",
      "text/plain": [
       "<Figure size 432x288 with 2 Axes>"
      ]
     },
     "metadata": {
      "needs_background": "light"
     },
     "output_type": "display_data"
    }
   ],
   "source": [
    "p = sns.heatmap(pd.DataFrame(cm), annot=True, cmap=\"YlGnBu\" ,fmt='g')\n",
    "plt.title('Confusion matrix', y=1.1)\n",
    "plt.ylabel('Actual label')\n",
    "plt.xlabel('Predicted label')"
   ]
  },
  {
   "cell_type": "code",
   "execution_count": 24,
   "id": "5dec2494",
   "metadata": {},
   "outputs": [
    {
     "name": "stdout",
     "output_type": "stream",
     "text": [
      "              precision    recall  f1-score   support\n",
      "\n",
      "           0       0.88      0.96      0.92      1607\n",
      "           1       0.73      0.45      0.56       393\n",
      "\n",
      "    accuracy                           0.86      2000\n",
      "   macro avg       0.80      0.71      0.74      2000\n",
      "weighted avg       0.85      0.86      0.85      2000\n",
      "\n"
     ]
    }
   ],
   "source": [
    "#import classification_report\n",
    "from sklearn.metrics import classification_report\n",
    "print(classification_report(y_test,y_pred))"
   ]
  }
 ],
 "metadata": {
  "kernelspec": {
   "display_name": "Python 3 (ipykernel)",
   "language": "python",
   "name": "python3"
  },
  "language_info": {
   "codemirror_mode": {
    "name": "ipython",
    "version": 3
   },
   "file_extension": ".py",
   "mimetype": "text/x-python",
   "name": "python",
   "nbconvert_exporter": "python",
   "pygments_lexer": "ipython3",
   "version": "3.9.7"
  }
 },
 "nbformat": 4,
 "nbformat_minor": 5
}
